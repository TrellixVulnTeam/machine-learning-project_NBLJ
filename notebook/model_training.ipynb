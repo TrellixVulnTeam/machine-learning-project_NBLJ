{
 "cells": [
  {
   "cell_type": "code",
   "execution_count": 1,
   "metadata": {},
   "outputs": [],
   "source": [
    "from housing.entity.model_factory import ModelFactory,get_sample_model_config_yaml_file"
   ]
  },
  {
   "cell_type": "code",
   "execution_count": 2,
   "metadata": {},
   "outputs": [
    {
     "data": {
      "text/plain": [
       "'d:\\\\Data_Science\\\\Ineuron\\\\Ineuron_project\\\\machine-learning-project\\\\notebook'"
      ]
     },
     "execution_count": 2,
     "metadata": {},
     "output_type": "execute_result"
    }
   ],
   "source": [
    "os.getcwd()"
   ]
  },
  {
   "cell_type": "code",
   "execution_count": 3,
   "metadata": {},
   "outputs": [
    {
     "data": {
      "text/plain": [
       "'config\\\\model.yaml'"
      ]
     },
     "execution_count": 3,
     "metadata": {},
     "output_type": "execute_result"
    }
   ],
   "source": [
    "get_sample_model_config_yaml_file(export_dir=\"config\")"
   ]
  },
  {
   "cell_type": "code",
   "execution_count": 4,
   "metadata": {},
   "outputs": [],
   "source": [
    "from sklearn.linear_model import LinearRegression"
   ]
  },
  {
   "cell_type": "code",
   "execution_count": 5,
   "metadata": {},
   "outputs": [
    {
     "data": {
      "text/plain": [
       "LinearRegression()"
      ]
     },
     "execution_count": 5,
     "metadata": {},
     "output_type": "execute_result"
    }
   ],
   "source": [
    "LinearRegression()"
   ]
  },
  {
   "cell_type": "code",
   "execution_count": 6,
   "metadata": {},
   "outputs": [],
   "source": [
    "model_config_file=r\"..\\notebook\\config\\model.yaml\""
   ]
  },
  {
   "cell_type": "code",
   "execution_count": 17,
   "metadata": {},
   "outputs": [],
   "source": [
    "model_factory = ModelFactory(model_config_path=model_config_file)"
   ]
  },
  {
   "cell_type": "code",
   "execution_count": 18,
   "metadata": {},
   "outputs": [
    {
     "name": "stdout",
     "output_type": "stream",
     "text": [
      "{'fit_intercept': True}\n",
      "{'n_estimators': 40, 'min_samples_leaf': 2}\n"
     ]
    }
   ],
   "source": [
    "model_list = model_factory.get_initialized_model_list()"
   ]
  },
  {
   "cell_type": "code",
   "execution_count": 19,
   "metadata": {},
   "outputs": [
    {
     "data": {
      "text/plain": [
       "2"
      ]
     },
     "execution_count": 19,
     "metadata": {},
     "output_type": "execute_result"
    }
   ],
   "source": [
    "len(model_list)"
   ]
  },
  {
   "cell_type": "code",
   "execution_count": 20,
   "metadata": {},
   "outputs": [
    {
     "data": {
      "text/plain": [
       "InitializedModelDetail(model_serial_number='module_1', model=RandomForestRegressor(min_samples_leaf=2, n_estimators=40), param_grid_search={'min_samples_leaf': [2, 4, 6], 'n_estimators': [50, 100, 80]}, model_name='sklearn.ensemble.RandomForestRegressor')"
      ]
     },
     "execution_count": 20,
     "metadata": {},
     "output_type": "execute_result"
    }
   ],
   "source": [
    "model_list[1]"
   ]
  },
  {
   "cell_type": "code",
   "execution_count": 21,
   "metadata": {},
   "outputs": [],
   "source": [
    "from housing.util.util import load_numpy_array_data"
   ]
  },
  {
   "cell_type": "code",
   "execution_count": 22,
   "metadata": {},
   "outputs": [],
   "source": [
    "data_file_path=r\"..\\housing\\artifact\\data_transformation\\2022-07-03-14-15-18\\transformed_data\\train\\housing.npz\""
   ]
  },
  {
   "cell_type": "code",
   "execution_count": 23,
   "metadata": {},
   "outputs": [],
   "source": [
    "data = load_numpy_array_data(data_file_path)"
   ]
  },
  {
   "cell_type": "code",
   "execution_count": 24,
   "metadata": {},
   "outputs": [],
   "source": [
    "x,y = data[:,:-1],data[:,-1]"
   ]
  },
  {
   "cell_type": "code",
   "execution_count": 27,
   "metadata": {},
   "outputs": [
    {
     "name": "stdout",
     "output_type": "stream",
     "text": [
      "{'fit_intercept': True}\n",
      "{'n_estimators': 40, 'min_samples_leaf': 2}\n",
      "{'cv': 4, 'verbose': 2}\n",
      "Fitting 4 folds for each of 2 candidates, totalling 8 fits\n",
      "[CV] END .................................fit_intercept=True; total time=   0.0s\n",
      "[CV] END .................................fit_intercept=True; total time=   0.0s\n",
      "[CV] END .................................fit_intercept=True; total time=   0.0s\n",
      "[CV] END .................................fit_intercept=True; total time=   0.0s\n",
      "[CV] END ................................fit_intercept=False; total time=   0.0s\n",
      "[CV] END ................................fit_intercept=False; total time=   0.0s\n",
      "[CV] END ................................fit_intercept=False; total time=   0.0s\n",
      "[CV] END ................................fit_intercept=False; total time=   0.0s\n",
      "{'cv': 4, 'verbose': 2}\n",
      "Fitting 4 folds for each of 9 candidates, totalling 36 fits\n",
      "[CV] END ................min_samples_leaf=2, n_estimators=50; total time=   4.5s\n",
      "[CV] END ................min_samples_leaf=2, n_estimators=50; total time=   5.7s\n",
      "[CV] END ................min_samples_leaf=2, n_estimators=50; total time=   8.2s\n",
      "[CV] END ................min_samples_leaf=2, n_estimators=50; total time=   5.3s\n",
      "[CV] END ...............min_samples_leaf=2, n_estimators=100; total time=  16.2s\n",
      "[CV] END ...............min_samples_leaf=2, n_estimators=100; total time=  15.1s\n",
      "[CV] END ...............min_samples_leaf=2, n_estimators=100; total time=  16.3s\n",
      "[CV] END ...............min_samples_leaf=2, n_estimators=100; total time=  19.4s\n",
      "[CV] END ................min_samples_leaf=2, n_estimators=80; total time=  12.3s\n",
      "[CV] END ................min_samples_leaf=2, n_estimators=80; total time=  14.7s\n",
      "[CV] END ................min_samples_leaf=2, n_estimators=80; total time=  21.6s\n",
      "[CV] END ................min_samples_leaf=2, n_estimators=80; total time=  17.8s\n",
      "[CV] END ................min_samples_leaf=4, n_estimators=50; total time=  14.5s\n",
      "[CV] END ................min_samples_leaf=4, n_estimators=50; total time=  11.2s\n",
      "[CV] END ................min_samples_leaf=4, n_estimators=50; total time=  14.6s\n",
      "[CV] END ................min_samples_leaf=4, n_estimators=50; total time=  12.8s\n",
      "[CV] END ...............min_samples_leaf=4, n_estimators=100; total time=  15.8s\n",
      "[CV] END ...............min_samples_leaf=4, n_estimators=100; total time=  19.0s\n",
      "[CV] END ...............min_samples_leaf=4, n_estimators=100; total time=  18.6s\n",
      "[CV] END ...............min_samples_leaf=4, n_estimators=100; total time=  21.5s\n",
      "[CV] END ................min_samples_leaf=4, n_estimators=80; total time=  15.1s\n",
      "[CV] END ................min_samples_leaf=4, n_estimators=80; total time=  12.2s\n",
      "[CV] END ................min_samples_leaf=4, n_estimators=80; total time=  23.5s\n",
      "[CV] END ................min_samples_leaf=4, n_estimators=80; total time=  16.2s\n",
      "[CV] END ................min_samples_leaf=6, n_estimators=50; total time=   6.5s\n",
      "[CV] END ................min_samples_leaf=6, n_estimators=50; total time=   8.9s\n",
      "[CV] END ................min_samples_leaf=6, n_estimators=50; total time=   6.9s\n",
      "[CV] END ................min_samples_leaf=6, n_estimators=50; total time=   8.3s\n",
      "[CV] END ...............min_samples_leaf=6, n_estimators=100; total time=  20.8s\n",
      "[CV] END ...............min_samples_leaf=6, n_estimators=100; total time=  23.6s\n",
      "[CV] END ...............min_samples_leaf=6, n_estimators=100; total time=  24.2s\n",
      "[CV] END ...............min_samples_leaf=6, n_estimators=100; total time=  24.5s\n",
      "[CV] END ................min_samples_leaf=6, n_estimators=80; total time=  20.3s\n",
      "[CV] END ................min_samples_leaf=6, n_estimators=80; total time=  20.4s\n",
      "[CV] END ................min_samples_leaf=6, n_estimators=80; total time=  20.4s\n",
      "[CV] END ................min_samples_leaf=6, n_estimators=80; total time=  17.1s\n"
     ]
    }
   ],
   "source": [
    "best_model = model_factory.get_best_model(x,y,0.7)"
   ]
  },
  {
   "cell_type": "code",
   "execution_count": 30,
   "metadata": {},
   "outputs": [
    {
     "data": {
      "text/plain": [
       "RandomForestRegressor(min_samples_leaf=4)"
      ]
     },
     "execution_count": 30,
     "metadata": {},
     "output_type": "execute_result"
    }
   ],
   "source": [
    "best_model.best_model"
   ]
  },
  {
   "cell_type": "code",
   "execution_count": 31,
   "metadata": {},
   "outputs": [
    {
     "data": {
      "text/plain": [
       "GridSearchedBestModel(model_serial_number='module_1', model=RandomForestRegressor(min_samples_leaf=2, n_estimators=40), best_model=RandomForestRegressor(min_samples_leaf=4), best_parameters={'min_samples_leaf': 4, 'n_estimators': 100}, best_score=0.8044909283535823)"
      ]
     },
     "execution_count": 31,
     "metadata": {},
     "output_type": "execute_result"
    }
   ],
   "source": [
    "model_factory.grid_searched_best_model_list[1]"
   ]
  },
  {
   "cell_type": "code",
   "execution_count": 32,
   "metadata": {},
   "outputs": [
    {
     "data": {
      "text/plain": [
       "[InitializedModelDetail(model_serial_number='module_0', model=LinearRegression(), param_grid_search={'fit_intercept': [True, False]}, model_name='sklearn.linear_model.LinearRegression'),\n",
       " InitializedModelDetail(model_serial_number='module_1', model=RandomForestRegressor(min_samples_leaf=2, n_estimators=40), param_grid_search={'min_samples_leaf': [2, 4, 6], 'n_estimators': [50, 100, 80]}, model_name='sklearn.ensemble.RandomForestRegressor')]"
      ]
     },
     "execution_count": 32,
     "metadata": {},
     "output_type": "execute_result"
    }
   ],
   "source": [
    "model_factory.initialized_model_list"
   ]
  },
  {
   "cell_type": "code",
   "execution_count": null,
   "metadata": {},
   "outputs": [],
   "source": []
  }
 ],
 "metadata": {
  "kernelspec": {
   "display_name": "Python 3.7.13 (conda)",
   "language": "python",
   "name": "python3"
  },
  "language_info": {
   "codemirror_mode": {
    "name": "ipython",
    "version": 3
   },
   "file_extension": ".py",
   "mimetype": "text/x-python",
   "name": "python",
   "nbconvert_exporter": "python",
   "pygments_lexer": "ipython3",
   "version": "3.7.13"
  },
  "orig_nbformat": 4,
  "vscode": {
   "interpreter": {
    "hash": "e47aebb09b51c2f41f2616086bdf7407f3a95918adbc1db19914054379f296a8"
   }
  }
 },
 "nbformat": 4,
 "nbformat_minor": 2
}
